{
 "cells": [
  {
   "cell_type": "code",
   "execution_count": 1,
   "metadata": {},
   "outputs": [],
   "source": [
    "import pandas as pd\n",
    "\n",
    "csvPath = \"../csv/\""
   ]
  },
  {
   "cell_type": "code",
   "execution_count": 2,
   "metadata": {},
   "outputs": [
    {
     "name": "stdout",
     "output_type": "stream",
     "text": [
      "Aj   -64.598477916545363\n",
      "Bj   -33.960715340655312\n",
      "Aa   -95.821299803259407\n",
      "Ba   -41.219440920225310\n",
      "dtype: float64\n",
      "                     0\n",
      "Aj -64.598477916545363\n",
      "Bj -33.960715340655312\n",
      "Aa -95.821299803259393\n",
      "Ba -41.219440920225310\n",
      "                     0\n",
      "Aj -64.598477916545363\n",
      "Bj -33.960715340655312\n",
      "Aa -95.821299803259393\n",
      "Ba -41.219440920225310\n"
     ]
    }
   ],
   "source": [
    "stratData = pd.Series({'Aj':-64.598477916545363, 'Bj':-33.960715340655312,\n",
    "                        'Aa':-95.821299803259407, 'Ba':-41.219440920225310})\n",
    "stratData.to_csv(csvPath + \"test_csv/strat_data.csv\")\n",
    "_stratData = pd.read_csv(csvPath + \"test_csv/strat_data.csv\", index_col=0)\n",
    "with pd.option_context('float_format', '{:,.15f}'.format):\n",
    "    print(stratData)\n",
    "    print(_stratData)\n",
    "\n",
    "_stratData.to_csv(csvPath + \"test_csv/_strat_data.csv\")\n",
    "__stratData = pd.read_csv(csvPath + \"test_csv/_strat_data.csv\", index_col=0)\n",
    "with pd.option_context('float_format', '{:,.15f}'.format):\n",
    "    print(__stratData)"
   ]
  },
  {
   "cell_type": "code",
   "execution_count": 3,
   "metadata": {},
   "outputs": [
    {
     "name": "stdout",
     "output_type": "stream",
     "text": [
      "Aj   -64.598477916545363\n",
      "Bj   -33.960715340655312\n",
      "Aa   -95.821299803259407\n",
      "Ba   -41.219440920225310\n",
      "dtype: float64\n",
      "                     0\n",
      "Aj -64.598477916545363\n",
      "Bj -33.960715340655312\n",
      "Aa -95.821299803259407\n",
      "Ba -41.219440920225310\n",
      "                     0\n",
      "Aj -64.598477916545363\n",
      "Bj -33.960715340655312\n",
      "Aa -95.821299803259393\n",
      "Ba -41.219440920225310\n"
     ]
    }
   ],
   "source": [
    "stratData = pd.Series({'Aj':-64.598477916545363, 'Bj':-33.960715340655312,\n",
    "                        'Aa':-95.821299803259407, 'Ba':-41.219440920225310})\n",
    "stratData.to_csv(csvPath + \"test_csv/strat_data.csv\")\n",
    "_stratData = pd.read_csv(csvPath + \"test_csv/strat_data.csv\", index_col=0, float_precision=\"round_trip\")\n",
    "with pd.option_context('float_format', '{:,.15f}'.format):\n",
    "    print(stratData)\n",
    "    print(_stratData)\n",
    "\n",
    "_stratData.to_csv(csvPath + \"test_csv/_strat_data.csv\")\n",
    "__stratData = pd.read_csv(csvPath + \"test_csv/_strat_data.csv\", index_col=0)\n",
    "with pd.option_context('float_format', '{:,.15f}'.format):\n",
    "    print(__stratData)"
   ]
  },
  {
   "cell_type": "code",
   "execution_count": 4,
   "metadata": {},
   "outputs": [
    {
     "name": "stdout",
     "output_type": "stream",
     "text": [
      "a_j   0.012618387563273\n",
      "b_j   0.000003320779238\n",
      "g_j   0.003348680411299\n",
      "d_j   0.000132462263282\n",
      "a_a   0.069854779879413\n",
      "b_a   0.000006647382060\n",
      "g_a   0.056092565173570\n",
      "d_a   0.000533265755090\n",
      "Name: restored, dtype: float64\n",
      "a_j   0.012618387563273\n",
      "b_j   0.000003320779238\n",
      "g_j   0.003348680411299\n",
      "d_j   0.000132462263282\n",
      "a_a   0.069854779879413\n",
      "b_a   0.000006647382060\n",
      "g_a   0.056092565173570\n",
      "d_a   0.000533265755090\n",
      "Name: restored, dtype: float64\n"
     ]
    }
   ],
   "source": [
    "rt_tmpData = pd.read_csv(csvPath + \"dynamic_pred/compare_param_data.csv\", index_col=0, float_precision=\"round_trip\")\n",
    "tmpData = pd.read_csv(csvPath + \"dynamic_pred/compare_param_data.csv\", index_col=0)\n",
    "with pd.option_context('float_format', '{:,.15f}'.format):\n",
    "    print(rt_tmpData.loc['restored'])\n",
    "    print(tmpData.loc['restored'])"
   ]
  },
  {
   "cell_type": "code",
   "execution_count": null,
   "metadata": {},
   "outputs": [],
   "source": []
  }
 ],
 "metadata": {
  "kernelspec": {
   "display_name": "venv",
   "language": "python",
   "name": "python3"
  },
  "language_info": {
   "codemirror_mode": {
    "name": "ipython",
    "version": 3
   },
   "file_extension": ".py",
   "mimetype": "text/x-python",
   "name": "python",
   "nbconvert_exporter": "python",
   "pygments_lexer": "ipython3",
   "version": "3.11.2"
  }
 },
 "nbformat": 4,
 "nbformat_minor": 2
}
